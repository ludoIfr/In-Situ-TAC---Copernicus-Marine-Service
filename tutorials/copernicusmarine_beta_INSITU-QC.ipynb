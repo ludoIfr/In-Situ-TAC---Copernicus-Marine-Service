{
 "cells": [
  {
   "cell_type": "markdown",
   "id": "f45ea481-7e1e-46c3-8519-6e78d1685110",
   "metadata": {},
   "source": [
    "Find some documentation about sparse subsetting [here](https://toolbox-docs.marine.copernicus.eu/en/v2.1.0b1/usage/subset-usage.html#sparse-data-subsetting).  \n"
   ]
  },
  {
   "cell_type": "markdown",
   "id": "7e748342-331e-4910-8c5d-65525f7adb2c",
   "metadata": {},
   "source": [
    "Disclaimer: INSITU datasets are sparse and hence the possible extent of the request can be huge even for a few data. Please be mindful of restricting the area of the request (on all dimensions). "
   ]
  },
  {
   "cell_type": "code",
   "execution_count": 1,
   "id": "31ac4e87-6ac3-4e92-ad0c-f7c61b3787b9",
   "metadata": {
    "scrolled": true
   },
   "outputs": [
    {
     "name": "stdout",
     "output_type": "stream",
     "text": [
      "Collecting copernicusmarine==2.1.0b1\n",
      "  Downloading copernicusmarine-2.1.0b1-py3-none-any.whl.metadata (8.1 kB)\n",
      "Collecting arcosparse<0.4.0,>=0.3.2 (from copernicusmarine==2.1.0b1)\n",
      "  Downloading arcosparse-0.3.3-py3-none-any.whl.metadata (1.8 kB)\n",
      "Requirement already satisfied: boto3>=1.26 in /srv/conda/envs/notebook/lib/python3.12/site-packages (from copernicusmarine==2.1.0b1) (1.34.131)\n",
      "Requirement already satisfied: click>=8.0.4 in /srv/conda/envs/notebook/lib/python3.12/site-packages (from copernicusmarine==2.1.0b1) (8.1.7)\n",
      "Requirement already satisfied: dask>=2022 in /srv/conda/envs/notebook/lib/python3.12/site-packages (from copernicusmarine==2.1.0b1) (2024.7.1)\n",
      "Requirement already satisfied: h5netcdf<2.0.0,>=1.4.0 in /home/jovyan/.local/lib/python3.12/site-packages (from copernicusmarine==2.1.0b1) (1.5.0)\n",
      "Requirement already satisfied: lxml>=4.9.0 in /srv/conda/envs/notebook/lib/python3.12/site-packages (from copernicusmarine==2.1.0b1) (5.2.2)\n",
      "Requirement already satisfied: numpy>=1.23.0 in /srv/conda/envs/notebook/lib/python3.12/site-packages (from copernicusmarine==2.1.0b1) (1.26.4)\n",
      "Requirement already satisfied: pydantic<3.0.0,>=2.9.1 in /home/jovyan/.local/lib/python3.12/site-packages (from copernicusmarine==2.1.0b1) (2.10.6)\n",
      "Requirement already satisfied: pystac>=1.8.3 in /srv/conda/envs/notebook/lib/python3.12/site-packages (from copernicusmarine==2.1.0b1) (1.10.1)\n",
      "Requirement already satisfied: requests>=2.27.1 in /srv/conda/envs/notebook/lib/python3.12/site-packages (from copernicusmarine==2.1.0b1) (2.32.3)\n",
      "Requirement already satisfied: semver>=3.0.2 in /home/jovyan/.local/lib/python3.12/site-packages (from copernicusmarine==2.1.0b1) (3.0.4)\n",
      "Requirement already satisfied: setuptools>=68.2.2 in /srv/conda/envs/notebook/lib/python3.12/site-packages (from copernicusmarine==2.1.0b1) (71.0.4)\n",
      "Requirement already satisfied: tqdm>=4.65.0 in /srv/conda/envs/notebook/lib/python3.12/site-packages (from copernicusmarine==2.1.0b1) (4.66.4)\n",
      "Requirement already satisfied: xarray>=2023.4.0 in /srv/conda/envs/notebook/lib/python3.12/site-packages (from copernicusmarine==2.1.0b1) (2024.6.0)\n",
      "Requirement already satisfied: zarr>=2.13.3 in /srv/conda/envs/notebook/lib/python3.12/site-packages (from copernicusmarine==2.1.0b1) (2.18.2)\n",
      "Requirement already satisfied: pandas<3,>=2 in /srv/conda/envs/notebook/lib/python3.12/site-packages (from arcosparse<0.4.0,>=0.3.2->copernicusmarine==2.1.0b1) (2.2.2)\n",
      "Collecting pyarrow>=17.0.0 (from arcosparse<0.4.0,>=0.3.2->copernicusmarine==2.1.0b1)\n",
      "  Downloading pyarrow-19.0.1-cp312-cp312-manylinux_2_28_x86_64.whl.metadata (3.3 kB)\n",
      "Requirement already satisfied: botocore<1.35.0,>=1.34.131 in /srv/conda/envs/notebook/lib/python3.12/site-packages (from boto3>=1.26->copernicusmarine==2.1.0b1) (1.34.131)\n",
      "Requirement already satisfied: jmespath<2.0.0,>=0.7.1 in /srv/conda/envs/notebook/lib/python3.12/site-packages (from boto3>=1.26->copernicusmarine==2.1.0b1) (1.0.1)\n",
      "Requirement already satisfied: s3transfer<0.11.0,>=0.10.0 in /srv/conda/envs/notebook/lib/python3.12/site-packages (from boto3>=1.26->copernicusmarine==2.1.0b1) (0.10.2)\n",
      "Requirement already satisfied: cloudpickle>=1.5.0 in /srv/conda/envs/notebook/lib/python3.12/site-packages (from dask>=2022->copernicusmarine==2.1.0b1) (3.0.0)\n",
      "Requirement already satisfied: fsspec>=2021.09.0 in /srv/conda/envs/notebook/lib/python3.12/site-packages (from dask>=2022->copernicusmarine==2.1.0b1) (2024.6.1)\n",
      "Requirement already satisfied: packaging>=20.0 in /srv/conda/envs/notebook/lib/python3.12/site-packages (from dask>=2022->copernicusmarine==2.1.0b1) (24.1)\n",
      "Requirement already satisfied: partd>=1.4.0 in /srv/conda/envs/notebook/lib/python3.12/site-packages (from dask>=2022->copernicusmarine==2.1.0b1) (1.4.2)\n",
      "Requirement already satisfied: pyyaml>=5.3.1 in /srv/conda/envs/notebook/lib/python3.12/site-packages (from dask>=2022->copernicusmarine==2.1.0b1) (6.0.1)\n",
      "Requirement already satisfied: toolz>=0.10.0 in /srv/conda/envs/notebook/lib/python3.12/site-packages (from dask>=2022->copernicusmarine==2.1.0b1) (0.12.1)\n",
      "Requirement already satisfied: h5py in /srv/conda/envs/notebook/lib/python3.12/site-packages (from h5netcdf<2.0.0,>=1.4.0->copernicusmarine==2.1.0b1) (3.11.0)\n",
      "Requirement already satisfied: annotated-types>=0.6.0 in /srv/conda/envs/notebook/lib/python3.12/site-packages (from pydantic<3.0.0,>=2.9.1->copernicusmarine==2.1.0b1) (0.7.0)\n",
      "Requirement already satisfied: pydantic-core==2.27.2 in /home/jovyan/.local/lib/python3.12/site-packages (from pydantic<3.0.0,>=2.9.1->copernicusmarine==2.1.0b1) (2.27.2)\n",
      "Requirement already satisfied: typing-extensions>=4.12.2 in /srv/conda/envs/notebook/lib/python3.12/site-packages (from pydantic<3.0.0,>=2.9.1->copernicusmarine==2.1.0b1) (4.12.2)\n",
      "Requirement already satisfied: python-dateutil>=2.7.0 in /srv/conda/envs/notebook/lib/python3.12/site-packages (from pystac>=1.8.3->copernicusmarine==2.1.0b1) (2.8.2)\n",
      "Requirement already satisfied: charset-normalizer<4,>=2 in /srv/conda/envs/notebook/lib/python3.12/site-packages (from requests>=2.27.1->copernicusmarine==2.1.0b1) (3.3.2)\n",
      "Requirement already satisfied: idna<4,>=2.5 in /srv/conda/envs/notebook/lib/python3.12/site-packages (from requests>=2.27.1->copernicusmarine==2.1.0b1) (3.7)\n",
      "Requirement already satisfied: urllib3<3,>=1.21.1 in /srv/conda/envs/notebook/lib/python3.12/site-packages (from requests>=2.27.1->copernicusmarine==2.1.0b1) (1.26.19)\n",
      "Requirement already satisfied: certifi>=2017.4.17 in /srv/conda/envs/notebook/lib/python3.12/site-packages (from requests>=2.27.1->copernicusmarine==2.1.0b1) (2024.7.4)\n",
      "Requirement already satisfied: asciitree in /srv/conda/envs/notebook/lib/python3.12/site-packages (from zarr>=2.13.3->copernicusmarine==2.1.0b1) (0.3.3)\n",
      "Requirement already satisfied: numcodecs>=0.10.0 in /srv/conda/envs/notebook/lib/python3.12/site-packages (from zarr>=2.13.3->copernicusmarine==2.1.0b1) (0.12.1)\n",
      "Requirement already satisfied: fasteners in /srv/conda/envs/notebook/lib/python3.12/site-packages (from zarr>=2.13.3->copernicusmarine==2.1.0b1) (0.17.3)\n",
      "Requirement already satisfied: pytz>=2020.1 in /srv/conda/envs/notebook/lib/python3.12/site-packages (from pandas<3,>=2->arcosparse<0.4.0,>=0.3.2->copernicusmarine==2.1.0b1) (2024.1)\n",
      "Requirement already satisfied: tzdata>=2022.7 in /srv/conda/envs/notebook/lib/python3.12/site-packages (from pandas<3,>=2->arcosparse<0.4.0,>=0.3.2->copernicusmarine==2.1.0b1) (2024.1)\n",
      "Requirement already satisfied: locket in /srv/conda/envs/notebook/lib/python3.12/site-packages (from partd>=1.4.0->dask>=2022->copernicusmarine==2.1.0b1) (1.0.0)\n",
      "Requirement already satisfied: six>=1.5 in /srv/conda/envs/notebook/lib/python3.12/site-packages (from python-dateutil>=2.7.0->pystac>=1.8.3->copernicusmarine==2.1.0b1) (1.16.0)\n",
      "Downloading copernicusmarine-2.1.0b1-py3-none-any.whl (110 kB)\n",
      "\u001b[2K   \u001b[90m━━━━━━━━━━━━━━━━━━━━━━━━━━━━━━━━━━━━━━━━\u001b[0m \u001b[32m110.0/110.0 kB\u001b[0m \u001b[31m2.7 MB/s\u001b[0m eta \u001b[36m0:00:00\u001b[0ma \u001b[36m0:00:01\u001b[0m\n",
      "\u001b[?25hDownloading arcosparse-0.3.3-py3-none-any.whl (24 kB)\n",
      "Downloading pyarrow-19.0.1-cp312-cp312-manylinux_2_28_x86_64.whl (42.1 MB)\n",
      "\u001b[2K   \u001b[90m━━━━━━━━━━━━━━━━━━━━━━━━━━━━━━━━━━━━━━━━\u001b[0m \u001b[32m42.1/42.1 MB\u001b[0m \u001b[31m75.6 MB/s\u001b[0m eta \u001b[36m0:00:00\u001b[0m:00:01\u001b[0m00:01\u001b[0m\n",
      "\u001b[?25hInstalling collected packages: pyarrow, arcosparse, copernicusmarine\n",
      "  Attempting uninstall: pyarrow\n",
      "    Found existing installation: pyarrow 16.1.0\n",
      "    Uninstalling pyarrow-16.1.0:\n",
      "      Successfully uninstalled pyarrow-16.1.0\n",
      "  Attempting uninstall: copernicusmarine\n",
      "    Found existing installation: copernicusmarine 2.0.1\n",
      "    Uninstalling copernicusmarine-2.0.1:\n",
      "      Successfully uninstalled copernicusmarine-2.0.1\n",
      "Successfully installed arcosparse-0.3.3 copernicusmarine-2.1.0b1 pyarrow-19.0.1\n"
     ]
    }
   ],
   "source": [
    "!pip install copernicusmarine==2.1.0b1 --pre"
   ]
  },
  {
   "cell_type": "code",
   "execution_count": 1,
   "id": "0ee3ce3c-b63f-4760-9731-1daa7615bb57",
   "metadata": {},
   "outputs": [
    {
     "data": {
      "text/plain": [
       "'2.1.0b1'"
      ]
     },
     "execution_count": 1,
     "metadata": {},
     "output_type": "execute_result"
    }
   ],
   "source": [
    "import copernicusmarine\n",
    "# version should be 2.1.0b1 if not maybe it's necessary to reload the python kernel\n",
    "copernicusmarine.__version__"
   ]
  },
  {
   "cell_type": "code",
   "execution_count": 2,
   "id": "9f071018-60c9-43ce-b53c-5aae6af53772",
   "metadata": {},
   "outputs": [],
   "source": [
    "import pandas as pd"
   ]
  },
  {
   "cell_type": "code",
   "execution_count": 40,
   "id": "8ba757b2-6288-4c82-9fcc-2302f0c60d6f",
   "metadata": {},
   "outputs": [],
   "source": [
    "dataset_insitu = \"cmems_obs-ins_arc_phybgcwav_mynrt_na_irr\"\n",
    "def requestinsitu(min, max):\n",
    "    df = copernicusmarine.read_dataframe(\n",
    "      username = 'ldrouineau',\n",
    "      password = 'xxxxxxx',\n",
    "      dataset_id=dataset_insitu,\n",
    "      minimum_depth=min,\n",
    "      maximum_depth=max,\n",
    "      variables=[\"TEMP\"],\n",
    "      dataset_part=\"latest\",\n",
    "    )\n",
    "    return df"
   ]
  },
  {
   "cell_type": "markdown",
   "id": "f0a3fb63-954a-4b58-ab99-4bb0b313c22e",
   "metadata": {},
   "source": [
    "The whole subsetting should work the same as subsetting gridded datasets. The result is different as it comes as a CSV, pandas.DataFrame or Parquet file. You can read more about it in [the documentation](https://toolbox-docs.marine.copernicus.eu/en/v2.1.0b1/usage/subset-usage.html#sparse-data-subsetting)."
   ]
  },
  {
   "cell_type": "code",
   "execution_count": 41,
   "id": "87fa30c0-06cf-4df4-941f-857662f04354",
   "metadata": {},
   "outputs": [],
   "source": [
    "import matplotlib.pyplot as plt\n",
    "\n",
    "\n",
    "def plot_qc_pie_chart(df, column='value_qc', title=\"Distribution of QC Flags\", ax=None):\n",
    "    # Count occurrences of each QC value\n",
    "    qc_counts = df['value_qc'].value_counts().sort_index()\n",
    "    \n",
    "    # Optional: map QC codes to descriptive labels\n",
    "    qc_labels = {\n",
    "        0: 'No QC',\n",
    "        1: 'Good',\n",
    "        2: 'Probably good',\n",
    "        3: 'Probably bad',\n",
    "        4: 'Bad',\n",
    "        5: 'Changed',\n",
    "        6: 'Bellow detection',\n",
    "        7: 'Nominal',\n",
    "        8: 'Interpolated',\n",
    "        9: 'Missing'\n",
    "    }\n",
    "    qc_colors = {\n",
    "        0: 'gray',\n",
    "        1: 'lightgreen',\n",
    "        2: 'lightblue',\n",
    "        3: 'lightsalmon',  # light orange\n",
    "        4: 'red',\n",
    "        5: 'maroon',\n",
    "        6: 'violet',\n",
    "        7: 'black',\n",
    "        8: 'blue'\n",
    "    }\n",
    "    # Match labels with counts (default to str(code) if unknown)\n",
    "    labels = [qc_labels.get(qc, str(qc)) for qc in qc_counts.index]\n",
    "    colors = [qc_colors.get(qc, 'white') for qc in qc_counts.index]\n",
    "\n",
    "    # Plot on the specified axis\n",
    "    if ax is None:\n",
    "        fig, ax = plt.subplots(figsize=(8, 8))\n",
    "    ax.pie(qc_counts, labels=labels, colors=colors, autopct='%1.1f%%',\n",
    "           startangle=90, counterclock=False)\n",
    "    ax.set_title(title, fontsize=12)"
   ]
  },
  {
   "cell_type": "code",
   "execution_count": null,
   "id": "a56fa335-e982-4d4a-851f-608979c834cb",
   "metadata": {
    "scrolled": true
   },
   "outputs": [
    {
     "name": "stderr",
     "output_type": "stream",
     "text": [
      "INFO - 2025-04-14T14:22:04Z - Selected dataset version: \"202311\"\n",
      "INFO - 2025-04-14T14:22:04Z - Selected dataset part: \"history\"\n",
      "Downloading files:   1%|          | 1457/201648 [01:14<1:59:49, 27.85it/s]"
     ]
    }
   ],
   "source": [
    "df1 = requestinsitu(0, 100)\n",
    "df2 = requestinsitu(100, 500)\n",
    "df3 = requestinsitu(500, 1000)\n",
    "df4 = requestinsitu(1000, 1500)\n",
    "df5 = requestinsitu(1500, 2000)\n",
    "df6 = requestinsitu(2000, 6000)"
   ]
  },
  {
   "cell_type": "code",
   "execution_count": null,
   "id": "3c61b871-21ee-45f5-a54b-b4951c1e476e",
   "metadata": {},
   "outputs": [],
   "source": [
    "# Create a 3x2 grid of subplots\n",
    "fig, axes = plt.subplots(2, 3, figsize=(18, 12))\n",
    "\n",
    "# List of dataframes and titles for each depth range\n",
    "dataframes = [df1, df2, df3, df4, df5, df6]\n",
    "titles = ['TEMP QC for 0-100m', 'TEMP QC for 100-500m', 'TEMP QC for 500-1000m',\n",
    "          'TEMP QC for 1000-1500m', 'TEMP QC for 1500-2000m', 'TEMP QC for >2000m']\n",
    "\n",
    "# Loop over each subplot and dataframe\n",
    "for i, ax in enumerate(axes.flatten()):\n",
    "    plot_qc_pie_chart(dataframes[i], title=titles[i], ax=ax)\n",
    "\n",
    "# Adjust layout\n",
    "plt.tight_layout()\n",
    "plt.show()"
   ]
  },
  {
   "cell_type": "code",
   "execution_count": null,
   "id": "19048e22-eb96-4376-9eac-245afcb5ae92",
   "metadata": {},
   "outputs": [],
   "source": [
    "import matplotlib.pyplot as plt\n",
    "\n",
    "\n",
    "def plot_type_pie_chart(df, column='entity_type', title=\"Distribution of QC Flags\", ax=None):\n",
    "    # Count occurrences of each QC value\n",
    "    qc_counts = df['entity_type'].value_counts().sort_index()\n",
    "    \n",
    "    # Optional: map QC codes to descriptive labels\n",
    "    'CT', 'DB', 'FB', 'GL', 'MO', 'PF', 'TS', 'XX'\n",
    "    type_labels = {\n",
    "        'CT': 'CTD',\n",
    "        'DB': 'drfiters',\n",
    "        'FB': 'ferryboxes',\n",
    "        'GL': 'gliders',\n",
    "        'MO': 'moorings',\n",
    "        'PF': 'profilers',\n",
    "        'TS': 'thermosalinometers',\n",
    "        'XX': 'unknown',\n",
    "    }\n",
    "    type_colors = {\n",
    "        'CT': 'gray',\n",
    "        'DB': 'lightgreen',\n",
    "        'FB': 'lightblue',\n",
    "        'GL': 'lightsalmon',  # light orange\n",
    "        'MO': 'red',\n",
    "        'PF': 'maroon',\n",
    "        'TS': 'violet',\n",
    "        'XX': 'black',\n",
    "    }\n",
    "    # Match labels with counts (default to str(code) if unknown)\n",
    "    labels = [type_labels.get(qc, str(qc)) for qc in qc_counts.index]\n",
    "    colors = [type_colors.get(qc, 'white') for qc in qc_counts.index]\n",
    "\n",
    "    # Plot on the specified axis\n",
    "    if ax is None:\n",
    "        fig, ax = plt.subplots(figsize=(8, 8))\n",
    "    ax.pie(qc_counts, labels=labels, colors=colors, autopct='%1.1f%%',\n",
    "           startangle=90, counterclock=False)\n",
    "    ax.set_title(title, fontsize=12)"
   ]
  },
  {
   "cell_type": "code",
   "execution_count": null,
   "id": "9549c88d-4f03-4ed9-b377-04adccfaf0c6",
   "metadata": {},
   "outputs": [],
   "source": [
    "# Create a 3x2 grid of subplots\n",
    "fig, axes = plt.subplots(2, 3, figsize=(18, 12))\n",
    "\n",
    "# List of dataframes and titles for each depth range\n",
    "dataframes = [df1, df2, df3, df4, df5, df6]\n",
    "titles = ['TEMP Type for 0-100m', 'TEMP Type for 100-500m', 'TEMP Type for 500-1000m',\n",
    "          'TEMP Type for 1000-1500m', 'TEMP Typefor 1500-2000m', 'TEMP Type for >2000m']\n",
    "\n",
    "# Loop over each subplot and dataframe\n",
    "for i, ax in enumerate(axes.flatten()):\n",
    "    plot_type_pie_chart(dataframes[i], title=titles[i], ax=ax)\n",
    "\n",
    "# Adjust layout\n",
    "plt.tight_layout()\n",
    "plt.show()"
   ]
  },
  {
   "cell_type": "code",
   "execution_count": null,
   "id": "3076d72f-092b-4c82-b572-1a6b51658bd1",
   "metadata": {},
   "outputs": [],
   "source": []
  }
 ],
 "metadata": {
  "kernelspec": {
   "display_name": "Python 3 (ipykernel)",
   "language": "python",
   "name": "python3"
  },
  "language_info": {
   "codemirror_mode": {
    "name": "ipython",
    "version": 3
   },
   "file_extension": ".py",
   "mimetype": "text/x-python",
   "name": "python",
   "nbconvert_exporter": "python",
   "pygments_lexer": "ipython3",
   "version": "3.12.4"
  }
 },
 "nbformat": 4,
 "nbformat_minor": 5
}
