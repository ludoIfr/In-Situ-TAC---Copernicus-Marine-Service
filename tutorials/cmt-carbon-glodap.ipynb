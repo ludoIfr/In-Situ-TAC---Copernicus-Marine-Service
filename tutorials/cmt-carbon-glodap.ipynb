{
 "cells": [
  {
   "cell_type": "code",
   "execution_count": 1,
   "id": "1af12fb3-3326-4279-a6b4-16a3b7e5752d",
   "metadata": {},
   "outputs": [],
   "source": [
    "import copernicusmarine as cm\n",
    "import json\n",
    "from pprint import pprint\n",
    "cm.__version__\n",
    "username = 'ldrouineau'\n",
    "password = '*****'"
   ]
  },
  {
   "cell_type": "code",
   "execution_count": 3,
   "id": "d1380e22-ef6d-428c-8cab-9335568cc623",
   "metadata": {},
   "outputs": [
    {
     "name": "stderr",
     "output_type": "stream",
     "text": [
      "INFO - 2024-12-20T08:07:24Z - Cache could not be loaded. Retrying without cache. If the problem with the cache persists, try running copernicusmarine describe --overwrite-metadata-cache\n",
      "Fetching catalog: 100%|██████████| 3/3 [00:07<00:00,  2.43s/it]\n",
      "INFO - 2024-12-20T08:07:32Z - Dataset version was not specified, the latest one was selected: \"202211\"\n",
      "INFO - 2024-12-20T08:07:32Z - Dataset part was not specified, the first one was selected: \"default\"\n",
      "INFO - 2024-12-20T08:07:32Z - Service was not specified, the default one was selected: \"original-files\"\n",
      "INFO - 2024-12-20T08:07:32Z - Downloading using service original-files...\n",
      "INFO - 2024-12-20T08:07:32Z - You requested the download of the following files:\n",
      "s3://mdl-native-08/native/INSITU_GLO_BGC_CARBON_DISCRETE_MY_013_050/cmems_obs-ins_glo_bgc-car_my_socat-obs_irr_202211/CO/GL_TS_CO_DBBT-SOCATv2024.nc - 2.96 MB - 2024-11-13T09:28:31Z\n",
      "\n",
      "Total size of the download: 2.96 MB\n",
      "\n",
      "\n",
      "Do you want to proceed with download? [Y/n]:"
     ]
    },
    {
     "name": "stdin",
     "output_type": "stream",
     "text": [
      "  Y\n"
     ]
    },
    {
     "name": "stderr",
     "output_type": "stream",
     "text": [
      "100%|██████████| 1/1 [00:00<00:00,  1.48it/s]\n"
     ]
    },
    {
     "data": {
      "text/plain": [
       "[PosixPath('INSITU_GLO_BGC_CARBON_DISCRETE_MY_013_050/cmems_obs-ins_glo_bgc-car_my_socat-obs_irr_202211/CO/GL_TS_CO_DBBT-SOCATv2024.nc')]"
      ]
     },
     "execution_count": 3,
     "metadata": {},
     "output_type": "execute_result"
    }
   ],
   "source": [
    "cm.get(\n",
    "  dataset_id=\"cmems_obs-ins_glo_bgc-car_my_glodap-obs_irr\",\n",
    "        username = username,\n",
    "    password = password,\n",
    "    filter = '*GL_PR_BO_KCEJ-GLODAPv22023.nc'\n",
    ")"
   ]
  },
  {
   "cell_type": "code",
   "execution_count": 1,
   "id": "f1581a0c-6cd1-4e47-934e-fecfba9b6b34",
   "metadata": {},
   "outputs": [],
   "source": [
    "import xarray as xr\n",
    "import pandas as pd\n",
    "import numpy as np"
   ]
  },
  {
   "cell_type": "code",
   "execution_count": 2,
   "id": "657e8c27-5b4e-4c43-b7f2-8bd71d6402f4",
   "metadata": {},
   "outputs": [],
   "source": [
    "ds = xr.open_dataset('INSITU_GLO_BGC_CARBON_DISCRETE_MY_013_050/cmems_obs-ins_glo_bgc-car_my_glodap-obs_irr_202211/BO/GL_PR_BO_KCEJ-GLODAPv22023.nc')"
   ]
  },
  {
   "cell_type": "code",
   "execution_count": 6,
   "id": "eb0c4b7d-4007-4fc5-aea7-2da7724d7a9b",
   "metadata": {},
   "outputs": [],
   "source": [
    "# Extract LATITUDE and LONGITUDE as separate DataFrames\n",
    "time_df = ds['TIME'].to_dataframe()\n",
    "latitude_df = ds['LATITUDE'].to_dataframe()\n",
    "longitude_df = ds['LONGITUDE'].to_dataframe()\n",
    "psal_df = ds['PSAL'].to_dataframe()\n",
    "deph_df = ds['DEPH'].to_dataframe()"
   ]
  },
  {
   "cell_type": "code",
   "execution_count": 4,
   "id": "ec76713b-ec2d-4b23-9f4d-571df6775682",
   "metadata": {},
   "outputs": [],
   "source": [
    "time_df.reset_index(drop=True, inplace=True)\n",
    "latitude_df.reset_index(drop=True, inplace=True)\n",
    "longitude_df.reset_index(drop=True, inplace=True)\n",
    "\n",
    "# Concatenate the two DataFrames along columns\n",
    "merged_df = pd.concat([time_df, latitude_df, longitude_df], axis=1)"
   ]
  },
  {
   "cell_type": "code",
   "execution_count": 5,
   "id": "c1badfac-805a-44a9-9b51-71e59ee96034",
   "metadata": {},
   "outputs": [
    {
     "data": {
      "text/html": [
       "<div>\n",
       "<style scoped>\n",
       "    .dataframe tbody tr th:only-of-type {\n",
       "        vertical-align: middle;\n",
       "    }\n",
       "\n",
       "    .dataframe tbody tr th {\n",
       "        vertical-align: top;\n",
       "    }\n",
       "\n",
       "    .dataframe thead th {\n",
       "        text-align: right;\n",
       "    }\n",
       "</style>\n",
       "<table border=\"1\" class=\"dataframe\">\n",
       "  <thead>\n",
       "    <tr style=\"text-align: right;\">\n",
       "      <th></th>\n",
       "      <th>TIME</th>\n",
       "      <th>LATITUDE</th>\n",
       "      <th>LONGITUDE</th>\n",
       "    </tr>\n",
       "  </thead>\n",
       "  <tbody>\n",
       "    <tr>\n",
       "      <th>0</th>\n",
       "      <td>1972-07-24 00:00:00.000000000</td>\n",
       "      <td>44.950001</td>\n",
       "      <td>-42.001999</td>\n",
       "    </tr>\n",
       "    <tr>\n",
       "      <th>1</th>\n",
       "      <td>1972-07-25 00:00:00.000000000</td>\n",
       "      <td>48.000000</td>\n",
       "      <td>-42.507999</td>\n",
       "    </tr>\n",
       "    <tr>\n",
       "      <th>2</th>\n",
       "      <td>1972-07-27 00:00:00.000000000</td>\n",
       "      <td>51.025002</td>\n",
       "      <td>-43.016998</td>\n",
       "    </tr>\n",
       "    <tr>\n",
       "      <th>3</th>\n",
       "      <td>1972-07-30 00:00:00.000000000</td>\n",
       "      <td>54.091999</td>\n",
       "      <td>-42.962002</td>\n",
       "    </tr>\n",
       "    <tr>\n",
       "      <th>4</th>\n",
       "      <td>1972-07-31 00:00:00.000000000</td>\n",
       "      <td>56.943001</td>\n",
       "      <td>-42.557999</td>\n",
       "    </tr>\n",
       "    <tr>\n",
       "      <th>...</th>\n",
       "      <td>...</td>\n",
       "      <td>...</td>\n",
       "      <td>...</td>\n",
       "    </tr>\n",
       "    <tr>\n",
       "      <th>2743</th>\n",
       "      <td>2015-09-24 09:19:00.000000000</td>\n",
       "      <td>63.250000</td>\n",
       "      <td>-54.200001</td>\n",
       "    </tr>\n",
       "    <tr>\n",
       "      <th>2744</th>\n",
       "      <td>2015-09-24 15:43:00.000000000</td>\n",
       "      <td>63.500000</td>\n",
       "      <td>-53.587002</td>\n",
       "    </tr>\n",
       "    <tr>\n",
       "      <th>2745</th>\n",
       "      <td>2015-09-24 18:14:00.000000000</td>\n",
       "      <td>63.625000</td>\n",
       "      <td>-53.300999</td>\n",
       "    </tr>\n",
       "    <tr>\n",
       "      <th>2746</th>\n",
       "      <td>2015-09-24 20:39:59.999999744</td>\n",
       "      <td>63.750000</td>\n",
       "      <td>-53.000999</td>\n",
       "    </tr>\n",
       "    <tr>\n",
       "      <th>2747</th>\n",
       "      <td>2015-09-24 23:35:00.000000256</td>\n",
       "      <td>63.999001</td>\n",
       "      <td>-52.400002</td>\n",
       "    </tr>\n",
       "  </tbody>\n",
       "</table>\n",
       "<p>2748 rows × 3 columns</p>\n",
       "</div>"
      ],
      "text/plain": [
       "                              TIME   LATITUDE  LONGITUDE\n",
       "0    1972-07-24 00:00:00.000000000  44.950001 -42.001999\n",
       "1    1972-07-25 00:00:00.000000000  48.000000 -42.507999\n",
       "2    1972-07-27 00:00:00.000000000  51.025002 -43.016998\n",
       "3    1972-07-30 00:00:00.000000000  54.091999 -42.962002\n",
       "4    1972-07-31 00:00:00.000000000  56.943001 -42.557999\n",
       "...                            ...        ...        ...\n",
       "2743 2015-09-24 09:19:00.000000000  63.250000 -54.200001\n",
       "2744 2015-09-24 15:43:00.000000000  63.500000 -53.587002\n",
       "2745 2015-09-24 18:14:00.000000000  63.625000 -53.300999\n",
       "2746 2015-09-24 20:39:59.999999744  63.750000 -53.000999\n",
       "2747 2015-09-24 23:35:00.000000256  63.999001 -52.400002\n",
       "\n",
       "[2748 rows x 3 columns]"
      ]
     },
     "execution_count": 5,
     "metadata": {},
     "output_type": "execute_result"
    }
   ],
   "source": [
    "merged_df"
   ]
  },
  {
   "cell_type": "code",
   "execution_count": 7,
   "id": "ad88ff70-3987-4bf1-a95a-d3b6ecd303e1",
   "metadata": {},
   "outputs": [],
   "source": [
    "merged_df.set_index('TIME', inplace=True)"
   ]
  },
  {
   "cell_type": "code",
   "execution_count": 8,
   "id": "e66ba2f0-81d2-48df-91e0-4b9b9489a111",
   "metadata": {},
   "outputs": [
    {
     "data": {
      "text/html": [
       "<div>\n",
       "<style scoped>\n",
       "    .dataframe tbody tr th:only-of-type {\n",
       "        vertical-align: middle;\n",
       "    }\n",
       "\n",
       "    .dataframe tbody tr th {\n",
       "        vertical-align: top;\n",
       "    }\n",
       "\n",
       "    .dataframe thead th {\n",
       "        text-align: right;\n",
       "    }\n",
       "</style>\n",
       "<table border=\"1\" class=\"dataframe\">\n",
       "  <thead>\n",
       "    <tr style=\"text-align: right;\">\n",
       "      <th></th>\n",
       "      <th>LATITUDE</th>\n",
       "      <th>LONGITUDE</th>\n",
       "    </tr>\n",
       "    <tr>\n",
       "      <th>TIME</th>\n",
       "      <th></th>\n",
       "      <th></th>\n",
       "    </tr>\n",
       "  </thead>\n",
       "  <tbody>\n",
       "    <tr>\n",
       "      <th>1972-07-24 00:00:00.000000000</th>\n",
       "      <td>44.950001</td>\n",
       "      <td>-42.001999</td>\n",
       "    </tr>\n",
       "    <tr>\n",
       "      <th>1972-07-25 00:00:00.000000000</th>\n",
       "      <td>48.000000</td>\n",
       "      <td>-42.507999</td>\n",
       "    </tr>\n",
       "    <tr>\n",
       "      <th>1972-07-27 00:00:00.000000000</th>\n",
       "      <td>51.025002</td>\n",
       "      <td>-43.016998</td>\n",
       "    </tr>\n",
       "    <tr>\n",
       "      <th>1972-07-30 00:00:00.000000000</th>\n",
       "      <td>54.091999</td>\n",
       "      <td>-42.962002</td>\n",
       "    </tr>\n",
       "    <tr>\n",
       "      <th>1972-07-31 00:00:00.000000000</th>\n",
       "      <td>56.943001</td>\n",
       "      <td>-42.557999</td>\n",
       "    </tr>\n",
       "    <tr>\n",
       "      <th>...</th>\n",
       "      <td>...</td>\n",
       "      <td>...</td>\n",
       "    </tr>\n",
       "    <tr>\n",
       "      <th>2015-09-24 09:19:00.000000000</th>\n",
       "      <td>63.250000</td>\n",
       "      <td>-54.200001</td>\n",
       "    </tr>\n",
       "    <tr>\n",
       "      <th>2015-09-24 15:43:00.000000000</th>\n",
       "      <td>63.500000</td>\n",
       "      <td>-53.587002</td>\n",
       "    </tr>\n",
       "    <tr>\n",
       "      <th>2015-09-24 18:14:00.000000000</th>\n",
       "      <td>63.625000</td>\n",
       "      <td>-53.300999</td>\n",
       "    </tr>\n",
       "    <tr>\n",
       "      <th>2015-09-24 20:39:59.999999744</th>\n",
       "      <td>63.750000</td>\n",
       "      <td>-53.000999</td>\n",
       "    </tr>\n",
       "    <tr>\n",
       "      <th>2015-09-24 23:35:00.000000256</th>\n",
       "      <td>63.999001</td>\n",
       "      <td>-52.400002</td>\n",
       "    </tr>\n",
       "  </tbody>\n",
       "</table>\n",
       "<p>2748 rows × 2 columns</p>\n",
       "</div>"
      ],
      "text/plain": [
       "                                LATITUDE  LONGITUDE\n",
       "TIME                                               \n",
       "1972-07-24 00:00:00.000000000  44.950001 -42.001999\n",
       "1972-07-25 00:00:00.000000000  48.000000 -42.507999\n",
       "1972-07-27 00:00:00.000000000  51.025002 -43.016998\n",
       "1972-07-30 00:00:00.000000000  54.091999 -42.962002\n",
       "1972-07-31 00:00:00.000000000  56.943001 -42.557999\n",
       "...                                  ...        ...\n",
       "2015-09-24 09:19:00.000000000  63.250000 -54.200001\n",
       "2015-09-24 15:43:00.000000000  63.500000 -53.587002\n",
       "2015-09-24 18:14:00.000000000  63.625000 -53.300999\n",
       "2015-09-24 20:39:59.999999744  63.750000 -53.000999\n",
       "2015-09-24 23:35:00.000000256  63.999001 -52.400002\n",
       "\n",
       "[2748 rows x 2 columns]"
      ]
     },
     "execution_count": 8,
     "metadata": {},
     "output_type": "execute_result"
    }
   ],
   "source": [
    "merged_df"
   ]
  },
  {
   "cell_type": "code",
   "execution_count": 9,
   "id": "bf2b4df5-fef2-4f7e-a7c1-a35a5651bfba",
   "metadata": {},
   "outputs": [],
   "source": [
    "tmp_df = merged_df.merge(psal_df, on=\"TIME\", how=\"left\")"
   ]
  },
  {
   "cell_type": "code",
   "execution_count": 11,
   "id": "c7c514e0-528e-4b70-a24a-37b04ed32093",
   "metadata": {},
   "outputs": [],
   "source": [
    "final_df = tmp_df.merge(deph_df, on=\"TIME\", how=\"left\")"
   ]
  },
  {
   "cell_type": "code",
   "execution_count": 12,
   "id": "f63b6a78-6f03-4a9c-9d41-ba11e96b6820",
   "metadata": {},
   "outputs": [
    {
     "name": "stdout",
     "output_type": "stream",
     "text": [
      "             LATITUDE  LONGITUDE    PSAL         DEPH\n",
      "TIME                                                 \n",
      "1972-07-24  44.950001 -42.001999  35.115   680.666687\n",
      "1972-07-24  44.950001 -42.001999  35.115   736.333313\n",
      "1972-07-24  44.950001 -42.001999  35.115   807.666687\n",
      "1972-07-24  44.950001 -42.001999  35.115   938.333313\n",
      "1972-07-24  44.950001 -42.001999  35.115  1010.666687\n"
     ]
    }
   ],
   "source": [
    "print(final_df.head())"
   ]
  }
 ],
 "metadata": {
  "kernelspec": {
   "display_name": "Python 3 (ipykernel)",
   "language": "python",
   "name": "python3"
  },
  "language_info": {
   "codemirror_mode": {
    "name": "ipython",
    "version": 3
   },
   "file_extension": ".py",
   "mimetype": "text/x-python",
   "name": "python",
   "nbconvert_exporter": "python",
   "pygments_lexer": "ipython3",
   "version": "3.11.7"
  }
 },
 "nbformat": 4,
 "nbformat_minor": 5
}
